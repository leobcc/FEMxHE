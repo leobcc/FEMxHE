{
 "cells": [
  {
   "cell_type": "markdown",
   "metadata": {},
   "source": [
    "# Disc break: diffusion of heat in a disc due to friction"
   ]
  },
  {
   "cell_type": "code",
   "execution_count": null,
   "metadata": {},
   "outputs": [],
   "source": [
    "import matplotlib.pyplot as plt\n",
    "import pyvista\n",
    "import ufl\n",
    "import numpy as np\n",
    "\n",
    "from petsc4py import PETSc\n",
    "from mpi4py import MPI\n",
    "\n",
    "from dolfinx import fem, mesh, io, plot\n",
    "from dolfinx.fem.petsc import assemble_vector, assemble_matrix, create_vector, apply_lifting, set_bc\n",
    "\n",
    "# Define temporal parameters\n",
    "t = 0  # Start time\n",
    "T = 10.0  # Final time\n",
    "num_steps = 500\n",
    "dt = T / num_steps  # time step size\n",
    "boundary_conditions = \"Neumann\"\n",
    "diffusion_coefficient = 2"
   ]
  },
  {
   "cell_type": "markdown",
   "metadata": {},
   "source": [
    "Import the mesh. The mesh has been previously created using gmsh."
   ]
  },
  {
   "cell_type": "code",
   "execution_count": null,
   "metadata": {},
   "outputs": [],
   "source": [
    "import meshio\n",
    "import h5py\n",
    "\n",
    "msh = meshio.read(\"tire.msh\")\n",
    "for cell in msh.cells:\n",
    "    triangle_cells = cell.data\n",
    "for key in msh.cell_data_dict[\"gmsh:physical\"].keys():\n",
    "    if key == \"triangle\":\n",
    "        triangle_data = msh.cell_data_dict[\"gmsh:physical\"][key]\n",
    "domain =meshio.Mesh(points=msh.points,\n",
    "                           cells=[(\"triangle\", triangle_cells)],\n",
    "                           cell_data={\"name_to_read\":[triangle_data]})\n",
    "meshio.write(\"diffusion.xdmf\",domain)"
   ]
  },
  {
   "cell_type": "code",
   "execution_count": null,
   "metadata": {},
   "outputs": [],
   "source": [
    "import dolfinx\n",
    "from dolfinx.io import XDMFFile\n",
    "\n",
    "with dolfinx.io.XDMFFile(MPI.COMM_WORLD, \"diffusion.xdmf\", \"r\") as xdmf:\n",
    "    domain = xdmf.read_mesh(name=\"Grid\")"
   ]
  },
  {
   "cell_type": "markdown",
   "metadata": {},
   "source": [
    "Visualize the mesh"
   ]
  },
  {
   "cell_type": "code",
   "execution_count": null,
   "metadata": {},
   "outputs": [],
   "source": [
    "from dolfinx.plot import vtk_mesh\n",
    "from dolfinx import fem, io, plot\n",
    "\n",
    "pyvista.start_xvfb()\n",
    "plotter = pyvista.Plotter()\n",
    "grid = pyvista.UnstructuredGrid(*vtk_mesh(domain, domain.topology.dim))\n",
    "num_local_cells = domain.topology.index_map(domain.topology.dim).size_local\n",
    "#grid.cell_data[\"Marker\"] = ct.values[ct.indices < num_local_cells]\n",
    "#grid.set_active_scalars(\"Marker\")\n",
    "actor = plotter.add_mesh(grid, show_edges=True)\n",
    "plotter.view_xy()\n",
    "if not pyvista.OFF_SCREEN:\n",
    "    plotter.show()\n",
    "else:\n",
    "    cell_tag_fig = plotter.screenshot(\"domain.png\")"
   ]
  },
  {
   "cell_type": "markdown",
   "metadata": {},
   "source": [
    "Define the function space"
   ]
  },
  {
   "cell_type": "code",
   "execution_count": null,
   "metadata": {},
   "outputs": [],
   "source": [
    "V = fem.FunctionSpace(domain, (\"Lagrange\", 1))"
   ]
  },
  {
   "cell_type": "code",
   "execution_count": null,
   "metadata": {},
   "outputs": [],
   "source": [
    "import numpy as np\n",
    "# Create initial condition\n",
    "#def initial_condition(x):\n",
    "#    return 1/(1+(x[0] + x[1])**2)\n",
    "#initial_condition = fem.Constant(domain, PETSc.ScalarType(0))\n",
    "\n",
    "u_n = fem.Function(V)\n",
    "u_n.name = \"u_n\"\n",
    "#u_n.interpolate(initial_condition)\n",
    "u_n.interpolate(lambda x: np.full(x.shape[1], 0, dtype=np.float64))\n",
    "\n",
    "# Create boundary condition\n",
    "fdim = domain.topology.dim - 1\n",
    "boundary_facets = mesh.locate_entities_boundary(\n",
    "    domain, fdim, lambda x: np.full(x.shape[1], True, dtype=bool))\n",
    "if boundary_conditions == 'Dirichlet':\n",
    "    bc = fem.dirichletbc(PETSc.ScalarType(0), fem.locate_dofs_topological(V, fdim, boundary_facets), V)"
   ]
  },
  {
   "cell_type": "markdown",
   "metadata": {},
   "source": [
    "## Time-dependent output\n",
    "To visualize the solution in an external program such as Paraview, we create a an `XDMFFile` which we can store multiple solutions in. The main advantage with an XDMFFile, is that we only need to store the mesh once, and can append multiple solutions to the same grid, reducing the storage space.\n",
    "The first argument to the XDMFFile is which communicator should be used to store the data. As we would like one output, independent of the number of processors, we use the `COMM_WORLD`. The second argument is the file name of the output file, while the third argument is the state of the file,\n",
    "this could be read (`\"r\"`), write (`\"w\"`) or append (`\"a\"`)."
   ]
  },
  {
   "cell_type": "code",
   "execution_count": null,
   "metadata": {},
   "outputs": [],
   "source": [
    "xdmf = io.XDMFFile(domain.comm, \"diffusion.xdmf\", \"w\")\n",
    "xdmf.write_mesh(domain)\n",
    "\n",
    "# Define solution variable, and interpolate initial solution for visualization in Paraview\n",
    "uh = fem.Function(V)\n",
    "uh.name = \"uh\"\n",
    "uh.interpolate(lambda x: np.full(x.shape[1], 0, dtype=np.float64))\n",
    "xdmf.write_function(uh, t)"
   ]
  },
  {
   "cell_type": "markdown",
   "metadata": {},
   "source": [
    "## Variational problem and solver\n",
    "In this case we make use of Constant classes to define the source term f, so that we will later be able to change them during the evolution of the process."
   ]
  },
  {
   "cell_type": "code",
   "execution_count": null,
   "metadata": {},
   "outputs": [],
   "source": [
    "u, v = ufl.TrialFunction(V), ufl.TestFunction(V)\n",
    "\n",
    "import ufl\n",
    "from dolfinx import default_scalar_type\n",
    "\n",
    "D = fem.Constant(domain, default_scalar_type(diffusion_coefficient))\n",
    "\n",
    "x = ufl.SpatialCoordinate(domain)\n",
    "R = fem.Constant(domain, default_scalar_type(8))\n",
    "theta = fem.Constant(domain, default_scalar_type(0))\n",
    "alpha = fem.Constant(domain, default_scalar_type(10))\n",
    "sigma = fem.Constant(domain, default_scalar_type(1))\n",
    "#f = 1 / ufl.exp(1+(x[0]-1)**2 + (x[1])**2)\n",
    "f = alpha * ufl.exp(-((x[0] - R*ufl.cos(theta))**2 / (2 * sigma**2) + (x[1] - R*ufl.sin(theta))**2 / (2 * sigma**2))) - 0.01\n",
    "\n",
    "a = u * v * ufl.dx + D * dt * ufl.dot(ufl.grad(u), ufl.grad(v)) * ufl.dx\n",
    "if boundary_conditions == \"Dirichlet\":\n",
    "    L = (u_n + dt * f) * v * ufl.dx \n",
    "elif boundary_conditions == \"Neumann\":\n",
    "    g = -0.01\n",
    "    L = (u_n + dt * f) * v * ufl.dx + g * v * ufl.ds"
   ]
  },
  {
   "cell_type": "markdown",
   "metadata": {},
   "source": [
    "## Preparing linear algebra structures for time dependent problems"
   ]
  },
  {
   "cell_type": "code",
   "execution_count": null,
   "metadata": {},
   "outputs": [],
   "source": [
    "bilinear_form = fem.form(a)\n",
    "linear_form = fem.form(L)"
   ]
  },
  {
   "cell_type": "code",
   "execution_count": null,
   "metadata": {},
   "outputs": [],
   "source": [
    "Q = fem.FunctionSpace(domain, (\"Lagrange\", 5))\n",
    "expr = fem.Expression(f, Q.element.interpolation_points())\n",
    "load = fem.Function(Q)\n",
    "load.interpolate(expr)"
   ]
  },
  {
   "cell_type": "markdown",
   "metadata": {},
   "source": [
    "We observe that the left hand side of the system, the matrix $A$ does not change from one time step to another, thus we only need to assemble it once. However, the right hand side, which is dependent on the previous time step `u_n`, we have to assemble it every time step. Therefore, we only create a vector `b` based on `L`, which we will reuse at every time step."
   ]
  },
  {
   "cell_type": "code",
   "execution_count": null,
   "metadata": {},
   "outputs": [],
   "source": [
    "#A = assemble_matrix(bilinear_form, bcs=[bc])\n",
    "A = assemble_matrix(bilinear_form)\n",
    "A.assemble()\n",
    "b = create_vector(linear_form)"
   ]
  },
  {
   "cell_type": "markdown",
   "metadata": {},
   "source": [
    "## Using petsc4py to create a linear solver\n",
    "As we have already assembled `a` into the matrix `A`, we can no longer use the `dolfinx.fem.petsc.LinearProblem` class to solve the problem. Therefore, we create a linear algebra solver using PETSc, and assign the matrix `A` to the solver, and choose the solution strategy."
   ]
  },
  {
   "cell_type": "code",
   "execution_count": null,
   "metadata": {},
   "outputs": [],
   "source": [
    "solver = PETSc.KSP().create(domain.comm)\n",
    "solver.setOperators(A)\n",
    "solver.setType(PETSc.KSP.Type.PREONLY)\n",
    "solver.getPC().setType(PETSc.PC.Type.LU)"
   ]
  },
  {
   "cell_type": "markdown",
   "metadata": {},
   "source": [
    "## Visualization of time dependent problem using pyvista\n",
    "We use the DOLFINx plotting functionality, which is based on pyvista to plot the solution at every $15$th time step. We would also like to visualize a colorbar reflecting the minimal and maximum value of $u$ at each time step. We use the following convenience function `plot_function` for this:"
   ]
  },
  {
   "cell_type": "code",
   "execution_count": null,
   "metadata": {
    "scrolled": true
   },
   "outputs": [],
   "source": [
    "import matplotlib as mpl\n",
    "pyvista.start_xvfb()\n",
    "\n",
    "grid = pyvista.UnstructuredGrid(*plot.vtk_mesh(V))\n",
    "\n",
    "plotter_3D = pyvista.Plotter()\n",
    "plotter_3D.open_gif(\"u_time_3D.gif\", fps=10)\n",
    "plotter_2D = pyvista.Plotter()\n",
    "plotter_2D.open_gif(\"u_time_2D.gif\", fps=10)\n",
    "\n",
    "grid.point_data[\"uh\"] = uh.x.array\n",
    "warped = grid.warp_by_scalar(\"uh\", factor=1)\n",
    "\n",
    "colormap = mpl.colormaps.get_cmap(\"coolwarm\").resampled(50)\n",
    "sargs = dict(title_font_size=25, label_font_size=20, fmt=\"%.2e\", color=\"black\",\n",
    "             position_x=0.1, position_y=0.8, width=0.8, height=0.1)\n",
    "\n",
    "renderer = plotter_3D.add_mesh(warped, show_edges=True, lighting=False,\n",
    "                            cmap=colormap, scalar_bar_args=sargs,\n",
    "                            clim=[0, max(uh.x.array)])\n",
    "renderer = plotter_2D.add_mesh(warped, show_edges=True, lighting=False,\n",
    "                            cmap=colormap, scalar_bar_args=sargs,\n",
    "                            clim=[0, max(uh.x.array)])\n",
    "plotter_2D.view_xy()"
   ]
  },
  {
   "cell_type": "markdown",
   "metadata": {
    "tags": []
   },
   "source": [
    "## Updating the solution and right hand side per time step\n",
    "To be able to solve the variation problem at each time step, we have to assemble the right hand side and apply the boundary condition before calling\n",
    "`solver.solve(b, uh.vector)`. We start by resetting the values in `b` as we are reusing the vector at every time step.\n",
    "The next step is to assemble the vector, calling `dolfinx.fem.petsc.assemble_vector(b, L)` which means that we are assemble the linear for `L(v)` into the vector `b`. Note that we do not supply the boundary conditions for assembly, as opposed to the left hand side.\n",
    "This is because we want to use lifting to apply the boundary condition, which preserves symmetry of the matrix $A$ if the bilinear form $a(u,v)=a(v,u)$ without Dirichlet boundary conditions.\n",
    "When we have applied the boundary condition, we can solve the linear system and update values that are potentially shared between processors.\n",
    "Finally, before moving to the next time step, we update the solution at the previous time step to the solution at this time step."
   ]
  },
  {
   "cell_type": "code",
   "execution_count": null,
   "metadata": {},
   "outputs": [],
   "source": [
    "t = 0\n",
    "for i in range(num_steps):\n",
    "    t += dt\n",
    "    theta.value = 2 * np.pi * t / (0.1*T)\n",
    "\n",
    "    # Update the right hand side reusing the initial vector\n",
    "    with b.localForm() as loc_b:\n",
    "        loc_b.set(0)\n",
    "    \n",
    "    assemble_vector(b, linear_form)\n",
    "\n",
    "    # Apply Dirichlet boundary condition to the vector\n",
    "    if boundary_conditions == 'Dirichlet':\n",
    "        apply_lifting(b, [bilinear_form], [[bc]])\n",
    "        b.ghostUpdate(addv=PETSc.InsertMode.ADD_VALUES, mode=PETSc.ScatterMode.REVERSE)\n",
    "        set_bc(b, [bc])\n",
    "\n",
    "    # Solve linear problem\n",
    "    solver.solve(b, uh.vector)\n",
    "    uh.x.scatter_forward()\n",
    "\n",
    "    # Update solution at previous time step (u_n)\n",
    "    u_n.x.array[:] = uh.x.array\n",
    "\n",
    "    # Write solution to file\n",
    "    xdmf.write_function(uh, t)\n",
    "    # Update plot\n",
    "    warped = grid.warp_by_scalar(\"uh\", factor=1)\n",
    "    plotter_3D.update_coordinates(warped.points.copy(), render=False)\n",
    "    plotter_3D.update_scalars(uh.x.array, render=False)\n",
    "    plotter_3D.write_frame()\n",
    "    plotter_2D.update_scalars(uh.x.array, render=False)\n",
    "    plotter_2D.write_frame()\n",
    "plotter_3D.close()\n",
    "plotter_2D.close()\n",
    "xdmf.close()"
   ]
  },
  {
   "cell_type": "code",
   "execution_count": null,
   "metadata": {},
   "outputs": [],
   "source": [
    "from IPython.display import display, Image\n",
    "\n",
    "# Path to your GIF file\n",
    "gif_path = './u_time_2D.gif'\n",
    "\n",
    "# Display the GIF\n",
    "with open(gif_path, 'rb') as f:\n",
    "    display(Image(data=f.read(), format='png'))\n",
    "\n",
    "# Path to your GIF file\n",
    "gif_path = './u_time_3D.gif'\n",
    "\n",
    "# Display the GIF\n",
    "with open(gif_path, 'rb') as f:\n",
    "    display(Image(data=f.read(), format='png'))"
   ]
  },
  {
   "cell_type": "markdown",
   "metadata": {},
   "source": [
    "## Animation with Paraview\n",
    "We can also use Paraview to create an animation. We open the file in paraview with `File->Open`, and then press `Apply` in the properties panel.\n",
    "\n",
    "Then, we add a time-annotation to the figure, pressing: `Sources->Alphabetical->Annotate Time` and `Apply` in the properties panel. It Is also a good idea to select an output resolution, by pressing `View->Preview->1280 x 720 (HD)`.\n",
    "\n",
    "Then finally, click `File->Save Animation`, and save the animation to the desired format, such as `avi`, `ogv` or a sequence of `png`s. Make sure to set the framerate to something, sensible, in the range of $5-10$ frames per second."
   ]
  }
 ],
 "metadata": {
  "jupytext": {
   "formats": "ipynb,py:light"
  },
  "kernelspec": {
   "display_name": "Python 3 (ipykernel)",
   "language": "python",
   "name": "python3"
  },
  "language_info": {
   "codemirror_mode": {
    "name": "ipython",
    "version": 3
   },
   "file_extension": ".py",
   "mimetype": "text/x-python",
   "name": "python",
   "nbconvert_exporter": "python",
   "pygments_lexer": "ipython3",
   "version": "3.10.12"
  }
 },
 "nbformat": 4,
 "nbformat_minor": 4
}
